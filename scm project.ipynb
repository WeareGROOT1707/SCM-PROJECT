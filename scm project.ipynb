{
 "cells": [
  {
   "cell_type": "code",
   "execution_count": null,
   "metadata": {},
   "outputs": [],
   "source": [
    "import speech_recognition\n",
    "\n",
    "def record_voice():\n",
    "\tmicrophone = speech_recognition.Recognizer()\t\n",
    "\n",
    "\twith speech_recognition.Microphone() as live_phone:\n",
    "\t\tmicrophone.adjust_for_ambient_noise(live_phone)\n",
    "\n",
    "\t\tprint(\"I'm trying to hear you: \")\n",
    "\t\taudio = microphone.listen(live_phone)\n",
    "\t\ttry:\n",
    "\t\t\tphrase = microphone.recognize_google(audio, language='en')\n",
    "\t\t\treturn phrase\n",
    "\t\texcept speech_recognition.UnkownValueError:\n",
    "\t\t\treturn \"I didn't understand what you said\"\n",
    "\n",
    "if __name__ == '__main__':\n",
    "\tphrase = record_voice()\n",
    "\n",
    "\twith open('you_said_this.txt','w') as file:\n",
    "\t\tfile.write(phrase) \n",
    "\n",
    "\tprint('the last sentence you spoke was:- ')\n",
    "\tf=open('you_said_this.txt','r')\n",
    "\tcontent=f.read()\n",
    "\tprint(content)\n",
    "\tf.close()"
   ]
  }
 ],
 "metadata": {
  "kernelspec": {
   "display_name": "Python 3.10.7 64-bit",
   "language": "python",
   "name": "python3"
  },
  "language_info": {
   "name": "python",
   "version": "3.10.7"
  },
  "orig_nbformat": 4,
  "vscode": {
   "interpreter": {
    "hash": "441198a5c705c824c55c646d4b6334ca44edd03a4faa503e60e4856af687d087"
   }
  }
 },
 "nbformat": 4,
 "nbformat_minor": 2
}
